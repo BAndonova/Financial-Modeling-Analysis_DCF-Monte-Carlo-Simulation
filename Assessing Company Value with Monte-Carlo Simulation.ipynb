{
 "cells": [
  {
   "cell_type": "markdown",
   "metadata": {},
   "source": [
    "<div style=\"text-align: center\"><H1><font color=darkgreen> Assessing a Company's Value  </font></H1></div>\n",
    "<div style=\"text-align: center\"><H4><font color=black> Bilyana Andonova </font></H4></div>\n",
    "<div style=\"text-align: center\"><H4><font color=black> Credit and Collection Specialist at Kofax Schweiz AG</font></H4></div>\n",
    "<div style=\"text-align: center\"><H3><font color=darkgreen> The General Objective in the Analysis is: </font></H3></div>\n",
    "<div style=\"text-align: center\"><H3><font color=orange> Assessing a Company's Value, combining discounted cash flows method and Monte Carlo simulation. </font></H3></div>"
   ]
  },
  {
   "cell_type": "markdown",
   "metadata": {},
   "source": [
    "<div style=\"text-align: left\"><H4><font color=darkgreen>Reader guidlines</font></H4></div>\n",
    "<div style=\"text-align: justify\">In order to achive the general objective, the project will be structured using the OSEMN methodology, but logically separated of 2 sections.</div>\n",
    "<div style=\"text-align: justify\"> So to make a complete analysis all the data is taken in consieration and explored. Everything below is done to fulfil the main purpose - to calculate and explore a Company value based on the selected methods.</div>"
   ]
  },
  {
   "cell_type": "markdown",
   "metadata": {},
   "source": [
    "<div style=\"text-align: justify\">**Note that only the files that are coming with this jupyter notebook should be used and should be extracted as they are and not be tampered with, since this may lead to internal errors and/or misinterpretation of data.</div>\n",
    "<div style=\"text-align: justify\">**The result of running the script of the project is a file containing the outcome of the simulations. In the folder with the project there will be an example of the last run simulation.</div>\n",
    "<div style=\"text-align: justify\"><b>**Note that the files and data used for the project are not real and should not be linked with any existing company. They are prepared for the educational purpose only.</b></div>"
   ]
  },
  {
   "cell_type": "markdown",
   "metadata": {},
   "source": [
    "<div style=\"text-align: left\"><H4><font color=darkgreen>Introduction</font></H4></div>\n",
    "<div style=\"text-align: justify\">Business valuation is a process and a set of procedures used to estimate the economic value of an owner’s interest in a business. The value of an asset is the present value of its expected returns. In order to calculate the value of a company we need to know its expected cash flows and its required rate of return. Company’s future cash flow could be estimated by forecasting future earnings on the basis of company’s historical earnings and the expected growth of both the firm and the market. The required rate of return that is used to discount the company’s estimated future cash flow has to reflect the risk of those cash flows </div>\n",
    "<div style=\"text-align: justify\">Most commonly used method for the company evaluations is Discounted Cash Flow (DCF), Internal Rate of Return (IRR), Economic Value Added (EVA). Many of these traditional models need to consider one parameter that called free cash flow. When estimating this parameter, the prior models are short of accurate method. For example, when estimating free cash flow we often calculate ROI to get future growth rate then calculate the FCF year by year. Obviously, the application of this method lack operability. Because of this weakness, this kind of model usually used in the field of education only. \n",
    "<b>Monte Carlo simulation</b> precisely solve this problem. This model improve the traditional methods and enhanced the operability by thousands of simulation tests. </div>\n",
    "<div style=\"text-align: justify\">Monte Carlo simulation also called random simulation, was put forward by American scientists in 1940s. The method obtain the approximate results by statistical analysis and stochastic simulation of random variables. Take DCF model as an example, if the free cash flow of the investment project in the future is expressed as a random variable with a certain probability distribution, we can improve the accuracy of traditional model according to the probability distribution of these random variables. \n",
    "Under the manual condition, it is difficult for people to operate thousands of tests. In this case, people prefer to use matlab in the application of Monte Carlo simulation. </div>\n",
    "\n",
    "<div style=\"text-align: justify\">In terms of the project we will make the below <b>assumptions:</b></div>\n",
    "<div style=\"text-align: justify\">- Tax Rate: 20%</div>\n",
    "<div style=\"text-align: justify\"><font>- Discount Rate: low value of 5% and a hign value of 10%. .</font></div>\n",
    "<div style=\"text-align: justify\">- Perpetual Growth Rate: 3% (The perpetuity growth rate is typically between the historical inflation rate of 2-3% and the historical GDP growth rate of 4-5%).</div>\n",
    "<div style=\"text-align: justify\">- EV/ EBITDA multiple from 2019: 5x, which is equal to 623.4 / 123.10. We are using this data due to the negative EBITDA in 2020.</div>\n",
    "<div style=\"text-align: justify\">- Price per share: CHF 96.65</div>\n",
    "<div style=\"text-align: justify\">- Current Price per share: CHF 140.40</div>\n",
    "<div style=\"text-align: justify\">- Shares Outstanding:  4,479,637.00</div>\n",
    "<div style=\"text-align: justify\">- Market capitalization 2020: CHF 431.9M </div>\n",
    "<div style=\"text-align: justify\">- Market capitalization 2019: CHF 623,4M </div>"
   ]
  },
  {
   "cell_type": "markdown",
   "metadata": {},
   "source": [
    "<div style=\"text-align: justify\"> For the project, the data used consistts of the financial statements of a Swiss company (which were public). The company is listed on the Swiss Stock Exchange. In terms of the project the company name will not be revealed (just not to create any issue for them). </div>\n",
    "<div style=\"text-align: justify\"> Also, in terms of the calculations going forward in the project development we will add some more <b>assumptions </b> which to support the calculations and the utilization of Monte Carlo Simulation method regarding the Company evaluation.</div>\n",
    "<div style=\"text-align: justify\"></div>"
   ]
  },
  {
   "cell_type": "markdown",
   "metadata": {},
   "source": [
    "<div style=\"text-align: left\"><H4><font color=darkgreen>Parameters of the analysis:</font></H4></div>\n",
    "<div style=\"text-align: justify\">1. Timespan - more than 5 years historical data (financial statements), 18 years historical sales data and 5 years prediction.</div>\n",
    "<div style=\"text-align: justify\">2. Additional calculations based on the predictions. </div>\n",
    "<div style=\"text-align: justify\">3. Company Financial Statements. </div>\n",
    "<div style=\"text-align: justify\">4. Excel model with the Discounted Cash Flow calculation which will be used for the simulations.</div>\n"
   ]
  },
  {
   "cell_type": "markdown",
   "metadata": {},
   "source": [
    "<div style=\"text-align: left\"><H4><font color=darkgreen>Resorces used in the project:</font></H4></div>\n",
    "<div style=\"text-align: justify\"> - The financial data used from a Company website - are acquired from the Company website since they are pubic. I do not like to share the Company name since my calculations migth affect them.</font></H4></div>\n",
    "<div style=\"text-align: justify\"> - Finance support data is used from https://corporatefinanceinstitute.com/resources/knowledge/valuation/dcf-formula-guide/</div>\n",
    "<div style=\"text-align: justify\"> - Article \"Python in Audit - Revenue Forecasting Using Monte Carlo Simulation\" from www.eloquens.com (https://www.eloquens.com/tool/l9VVSMBB/rizwan-ahmed-surhio/python-in-audit-revenue-forecasting-using-monte-carlo-simulation) </div>\n",
    "<div style=\"text-align: justify\"> - Videos from Youtube.com - Monte Carlo Simulation using Python (Part 1): Concepts, First Simulation and Monte Carlo Simulation using Python (Part 2): Simulation, Plots, Formating. </div>\n",
    "<div style=\"text-align: justify\"> - Article \"How to assess the value of a company, combining discounted cash flows method and a Monte-Carlo simulation in Python?\" from https://www.linkedin.com/pulse/how-assess-value-company-combining-discounted-cash-anthony/. </div>\n",
    "<div style=\"text-align: justify\"> - Theoretical Data from  https://corporatefinanceinstitute.com/ and https://www.investopedia.com/. </div>"
   ]
  },
  {
   "cell_type": "code",
   "execution_count": null,
   "metadata": {},
   "outputs": [],
   "source": [
    "%matplotlib inline"
   ]
  },
  {
   "cell_type": "code",
   "execution_count": null,
   "metadata": {},
   "outputs": [],
   "source": [
    "import xlwings as xw\n",
    "from xlwings import constants\n",
    "import pandas as pd\n",
    "import random\n",
    "import matplotlib.pyplot as plt\n",
    "plt.style.use('seaborn-darkgrid') # definig the plots style\n",
    "import matplotlib as mlp\n",
    "import nose.tools\n",
    "import numpy as np\n",
    "from numpy.random import uniform\n",
    "import os\n",
    "import seaborn as sns\n",
    "from IPython.display import Markdown, display\n",
    "from xlwings.utils import rgb_to_int"
   ]
  },
  {
   "cell_type": "markdown",
   "metadata": {},
   "source": [
    "<div style=\"text-align: left\"><H3><font color=darkgreen>I. Obtain, Scrub and Explore the Data </font></H3></div>\n",
    "\n",
    "<div style=\"text-align: justify\">Obtaining the information from the prepared files which will be used for the analysis and the simulations.</div>\n",
    "<div style=\"text-align: justify\"> In the section we will scrub and explore a bit the data while preparing it for the model creation. As well, we will introduce and view the main formulas which would be needed for building the DCF model and running the Monte Carlo Simulation. </div>"
   ]
  },
  {
   "cell_type": "code",
   "execution_count": null,
   "metadata": {},
   "outputs": [],
   "source": [
    "# Find out your current working directory\n",
    "print(os.getcwd())"
   ]
  },
  {
   "cell_type": "code",
   "execution_count": null,
   "metadata": {},
   "outputs": [],
   "source": [
    "# Display all of the files found in your current working directory\n",
    "print(os.listdir(os.getcwd()))"
   ]
  },
  {
   "cell_type": "code",
   "execution_count": null,
   "metadata": {},
   "outputs": [],
   "source": [
    "#load the file with the consolidated balance sheet data for the period 2016-2020 using relative path\n",
    "balance_sheet = pd.read_excel(\"Consolidated-Balance-Sheet-2020-2016-en.xlsx\")\n",
    "balance_sheet"
   ]
  },
  {
   "cell_type": "code",
   "execution_count": null,
   "metadata": {},
   "outputs": [],
   "source": [
    "# Replacing the NaN cells with dashes for better view.\n",
    "balance_sheet_fin = balance_sheet.fillna('-')\n",
    "balance_sheet_fin"
   ]
  },
  {
   "cell_type": "code",
   "execution_count": null,
   "metadata": {},
   "outputs": [],
   "source": [
    "#explore the dataset size\n",
    "balance_sheet.shape"
   ]
  },
  {
   "cell_type": "code",
   "execution_count": null,
   "metadata": {},
   "outputs": [],
   "source": [
    "# explore the data types\n",
    "balance_sheet.dtypes"
   ]
  },
  {
   "cell_type": "code",
   "execution_count": null,
   "metadata": {},
   "outputs": [],
   "source": [
    "balance_sheet.columns"
   ]
  },
  {
   "cell_type": "code",
   "execution_count": null,
   "metadata": {},
   "outputs": [],
   "source": [
    "#load the file with the consolidated income statement data for the period 2016-2020 using relative path\n",
    "income_review = pd.read_excel(\"CONSOLIDATED_INCOME_STATEMENT_2016-2020.xlsx\")\n",
    "income_review"
   ]
  },
  {
   "cell_type": "code",
   "execution_count": null,
   "metadata": {},
   "outputs": [],
   "source": [
    "# Replacing the NaN cells with dashes for better view.\n",
    "income_review_fin = income_review.fillna('-')\n",
    "income_review_fin"
   ]
  },
  {
   "cell_type": "code",
   "execution_count": null,
   "metadata": {},
   "outputs": [],
   "source": [
    "# reviewing the number of the rows and columns\n",
    "income_review_fin.shape"
   ]
  },
  {
   "cell_type": "code",
   "execution_count": null,
   "metadata": {},
   "outputs": [],
   "source": [
    "# exploring the types of the data in the dataset\n",
    "income_review_fin.dtypes"
   ]
  },
  {
   "cell_type": "code",
   "execution_count": null,
   "metadata": {},
   "outputs": [],
   "source": [
    "#load the file with the consolidated report statement for the period 2016-2020 data using relative path\n",
    "consolidated_report = pd.read_excel(\"Consolidated_Reports_2016-2020.xlsx\")\n",
    "consolidated_report"
   ]
  },
  {
   "cell_type": "code",
   "execution_count": null,
   "metadata": {},
   "outputs": [],
   "source": [
    "# Replacing the NaN cells with dashes for better view.\n",
    "consolidated_report_fin = consolidated_report.fillna('-')\n",
    "consolidated_report_fin"
   ]
  },
  {
   "cell_type": "code",
   "execution_count": null,
   "metadata": {},
   "outputs": [],
   "source": [
    "# reviewing the data type\n",
    "consolidated_report_fin.dtypes"
   ]
  },
  {
   "cell_type": "code",
   "execution_count": null,
   "metadata": {},
   "outputs": [],
   "source": [
    "# reviewing the number of the rows and columns\n",
    "consolidated_report_fin.shape"
   ]
  },
  {
   "cell_type": "code",
   "execution_count": null,
   "metadata": {},
   "outputs": [],
   "source": [
    "# Let's view first with pandas the file with the working DCF template data for the period 2016-2020 using relative path\n",
    "dcf_file_r = pd.read_excel(\"DCF_file_Statement.xlsx\")\n",
    "dcf_file_r"
   ]
  },
  {
   "cell_type": "code",
   "execution_count": null,
   "metadata": {},
   "outputs": [],
   "source": [
    "# Replacing the NaN cells with dashes for better view.\n",
    "dcf_file_r = dcf_file_r.fillna('-')\n",
    "dcf_file_r"
   ]
  },
  {
   "cell_type": "markdown",
   "metadata": {},
   "source": [
    "#### Let's view first the DCF model file with the working DCF template which will be further used in the project \n",
    "The thing I like in xlwings is that it opens the file we are using when the code is run."
   ]
  },
  {
   "cell_type": "markdown",
   "metadata": {},
   "source": [
    "![DCF Model](DCF_Model_File.png \"Title\")"
   ]
  },
  {
   "cell_type": "markdown",
   "metadata": {},
   "source": [
    "#### Loading of the excel file with the Discounted Cash Flow (DCF) calculation model which is specially created for this project and the simulation.\n",
    "In this case we will read and modify the data in the model as well as we will store the needed outcome in a specific sheets.<br>* **The file is automatically saved and closed after the code is run until the end of the Jupyter notebook.**"
   ]
  },
  {
   "cell_type": "markdown",
   "metadata": {},
   "source": [
    "When I started searching for the data and libraries which will be needed in order to complete my project, I found the **xlwings** library and fell in love with it. This is an amazing library that makes some of the data analysis features of Python available in an Excel instance, including support for numpy arrays and pandas Series and DataFrames."
   ]
  },
  {
   "cell_type": "markdown",
   "metadata": {},
   "source": [
    "Loading the **DCF_Model file** with xlwings and taking the Sheet1, where the model with the formulas is build. This is the model we will needed further down for the simulations. <br> And we will see the values of some of the important cells which are available at the moment of opening the file.<br>\n",
    "As well, we start with the presentation and explanation of the main *mathematical formulas used in the Finance Modeling and Analysis area.* These formulas are used for model creation in the excel."
   ]
  },
  {
   "cell_type": "code",
   "execution_count": null,
   "metadata": {},
   "outputs": [],
   "source": [
    "dcf_file = xw.Book('DCF_file_Statement.xlsx')\n",
    "dcf_model = dcf_file.sheets('Sheet1')\n",
    "dcf_model"
   ]
  },
  {
   "cell_type": "code",
   "execution_count": null,
   "metadata": {},
   "outputs": [],
   "source": [
    "#checking the existing sheets in the excel file\n",
    "dcf_file.sheets"
   ]
  },
  {
   "cell_type": "code",
   "execution_count": null,
   "metadata": {},
   "outputs": [],
   "source": [
    "# Reading the data for the actual sales for year 2020 from the dcf_model file\n",
    "sales_actual_2020 = dcf_model.range('F16').value\n",
    "sales_actual_2020"
   ]
  },
  {
   "cell_type": "code",
   "execution_count": null,
   "metadata": {},
   "outputs": [],
   "source": [
    "# Reading the initial data of the Forecasted Sales for 2021 - 2025. The data will be recalculated based on the assumptions \n",
    "# in the simulation model.\n",
    "salesF_2021 = dcf_model.range('G16').value \n",
    "salesF_2022 = dcf_model.range('H16').value \n",
    "salesF_2023 = dcf_model.range('I16').value\n",
    "salesF_2024 = dcf_model.range('J16').value \n",
    "salesF_2025 = dcf_model.range('K16').value\n",
    "\n",
    "salesF_2021, salesF_2022, salesF_2023, salesF_2024, salesF_2025"
   ]
  },
  {
   "cell_type": "markdown",
   "metadata": {},
   "source": [
    "### Gross Profit Formula\n",
    "Gross profit is the profit a company makes after deducting the costs associated with making and selling its products, or the costs associated with providing its services. Gross profit will appear on a company's income statement and can be calculated by subtracting the cost of goods sold (COGS) from revenue (sales).\n",
    "$$ Gross Profit = Revenue – Cost of Goods Sold $$\n",
    "where the revenue is the Sales Revenue (Sales Amount in our case).\n",
    "<br> In order to calculate the Gross Profit we will make an assumption that it will be 38% from the Sales Revenue, where the 38% are coming from the average actual value from the last 5 years."
   ]
  },
  {
   "cell_type": "markdown",
   "metadata": {},
   "source": [
    "### COGS Fromula\n",
    "Cost of goods sold (COGS) refers to the direct costs of producing the goods sold by a company. This amount includes the cost of the materials and labor directly used to create the good. It excludes indirect expenses, such as distribution costs and sales force costs.\n",
    "$$COGS = Beginning Inventory + Purchases During the Period – Ending Inventory$$ \n",
    "or\n",
    "$$Gross Profit = Gross Revenue – COGS$$\n",
    "<br> We will use the seconf formula, taking an asumption that the **Gross profit is 38% of the Gross Revenue(Sales Revenue)**, i.e. $COGS = Revenue - Gross Profit$"
   ]
  },
  {
   "cell_type": "code",
   "execution_count": null,
   "metadata": {},
   "outputs": [],
   "source": [
    "# Reading the initial data of the Forecasted Gross Profit and COGS (Cost of Goods Sold) for 5 years period from the DCF_Model file.\n",
    "# The data will be recalculated based on the assumptions in the simulation model.\n",
    "gross_profit_percent_sales = dcf_model.range('B10').value\n",
    "gross_profit_percent_sales\n",
    "\n",
    "gross_profitF_2021 = dcf_model.range('G19').value \n",
    "cogsF_2021 = dcf_model.range('G18').value \n",
    "\n",
    "gross_profitF_2022 = dcf_model.range('H19').value\n",
    "cogsF_2022 = dcf_model.range('H18').value \n",
    "\n",
    "gross_profitF_2023 = dcf_model.range('I19').value \n",
    "cogsF_2023 = dcf_model.range('I18').value \n",
    "\n",
    "gross_profitF_2024 = dcf_model.range('J19').value \n",
    "cogsF_2024 = dcf_model.range('J18').value \n",
    "\n",
    "gross_profitF_2025 = dcf_model.range('K19').value \n",
    "cogsF_2025 = dcf_model.range('K18').value \n"
   ]
  },
  {
   "cell_type": "code",
   "execution_count": null,
   "metadata": {},
   "outputs": [],
   "source": [
    "# Displaying the initial values\n",
    "gross_profitF_2021, gross_profitF_2022, gross_profitF_2023, gross_profitF_2024, gross_profitF_2025"
   ]
  },
  {
   "cell_type": "code",
   "execution_count": null,
   "metadata": {},
   "outputs": [],
   "source": [
    "# Reading the initially estimated COGS values under the above assumptions\n",
    "cogsF_2021, cogsF_2022, cogsF_2023, cogsF_2024, cogsF_2025"
   ]
  },
  {
   "cell_type": "markdown",
   "metadata": {},
   "source": [
    "### Selling, General & Administrative Expense (SG&A)\n",
    "Selling, general, and administrative expenses (SG&A) are included in the income statement in the expense section.\n",
    "SG&A is not assigned to a specific product, and therefore not included in the cost of goods sold (COGS).\n",
    "SG&A are incurred as part of the day-to-day business operations.\n",
    "<br> In our case, we will use a **constant of 170.00 MCHF** as SG&A for the predicted 5 years."
   ]
  },
  {
   "cell_type": "markdown",
   "metadata": {},
   "source": [
    "### Depreciation and Amortization\n",
    "Amortization and depreciation are two methods of calculating the value for business assets over time.\n",
    "A business will calculate these expense amounts in order to use them as a tax deduction and reduce their tax liability.\n",
    "<br> In the current model we will use a **constant value of 39.8 MCHF.**"
   ]
  },
  {
   "cell_type": "code",
   "execution_count": null,
   "metadata": {},
   "outputs": [],
   "source": [
    "# Readng the estimate values for SG&A and Depreciation&Amortization\n",
    "sg_and_a_expenses_E = dcf_model.range('B11').value\n",
    "depreciation_and_amortization_E = dcf_model.range('B8').value\n",
    "sg_and_a_expenses_E, depreciation_and_amortization_E"
   ]
  },
  {
   "cell_type": "markdown",
   "metadata": {},
   "source": [
    "### Earnings before interest and taxes (EBIT)\n",
    "THis is an indicator of a company's profitability. EBIT can be calculated as revenue minus expenses excluding tax and interest. EBIT is also referred to as operating earnings, operating profit, and profit before interest and taxes."
   ]
  },
  {
   "cell_type": "markdown",
   "metadata": {},
   "source": [
    "Calculation of the predicted Earnings Before Interest and Taxes (EBIT) value using the below formula:\n",
    "**$$EBIT = Revenue − COGS − Operating Expenses$$**\n",
    "where $Operating Expenses =  Selling, general, and administrative costs +  depreciation \\& amortization$\n"
   ]
  },
  {
   "cell_type": "markdown",
   "metadata": {},
   "source": [
    "### Earnings Before Interest, Taxes, Depreciation, and Amortization (EBITDA)\n",
    " - EBITDA is a widely used metric of corporate profitability\n",
    " - EBITDA can be used to compare companies against each other and industry averages.\n",
    " - EBITDA can be used to analyze and compare profitability among companies and industries, as it eliminates the effects of financing and capital expenditures."
   ]
  },
  {
   "cell_type": "markdown",
   "metadata": {},
   "source": [
    "**Calculation of EBITDA** estimated value based on the below fromula:\n",
    "$$EBITDA = Gross Sales – (COGS + Business Expenses)$$\n",
    "where $Business Expenses = SG\\&A$"
   ]
  },
  {
   "cell_type": "code",
   "execution_count": null,
   "metadata": {},
   "outputs": [],
   "source": [
    "# Reading the initial values of the Estimated EBIT & EBITDA value for 2021 - 2025. The values will be recalculated further in the project.\n",
    "ebitF_2021 = dcf_model.range('G25').value \n",
    "ebitdaF_2021 = dcf_model.range('G21').value\n",
    "\n",
    "ebitF_2022 = dcf_model.range('H25').value \n",
    "ebitdaF_2022 = dcf_model.range('H21').value \n",
    "\n",
    "ebitF_2023 = dcf_model.range('I25').value\n",
    "ebitdaF_2023 = dcf_model.range('I21').value \n",
    "\n",
    "ebitF_2024 = dcf_model.range('J25').value\n",
    "ebitdaF_2024 = dcf_model.range('J21').value \n",
    "\n",
    "ebitF_2025 = dcf_model.range('K25').value \n",
    "ebitdaF_2025 = dcf_model.range('K21').value"
   ]
  },
  {
   "cell_type": "code",
   "execution_count": null,
   "metadata": {},
   "outputs": [],
   "source": [
    "# Displaying the initial forecasted values of EBIT\n",
    "ebitF_2021, ebitF_2022, ebitF_2023, ebitF_2024, ebitF_2025"
   ]
  },
  {
   "cell_type": "code",
   "execution_count": null,
   "metadata": {},
   "outputs": [],
   "source": [
    "# Displaying the initial forecasted values of EBITDA\n",
    "ebitdaF_2021, ebitdaF_2022, ebitdaF_2023, ebitdaF_2024, ebitdaF_2025"
   ]
  },
  {
   "cell_type": "markdown",
   "metadata": {},
   "source": [
    "### Net Income\n",
    "Net income, also called net earnings, is sales minus cost of goods sold, general expenses, taxes, and interest."
   ]
  },
  {
   "cell_type": "markdown",
   "metadata": {},
   "source": [
    "**Net Income Calculation** - the general formula is as follows.\n",
    "$$Revenue – Cost of Goods Sold – Expenses = Net Income$$\n",
    "In the case we can use the formula $Net Income = EBIT - Interest Expenses - Income Tax $"
   ]
  },
  {
   "cell_type": "markdown",
   "metadata": {},
   "source": [
    "For building the model we apply another assumption where the **Interest Expenses are constant of 1.25 MCHF** and the **Tax Rate is 20%** (which is not the reality in Switzerland). These assumptions will be needed in order to make the calculation easier."
   ]
  },
  {
   "cell_type": "code",
   "execution_count": null,
   "metadata": {},
   "outputs": [],
   "source": [
    "# Reading the estimation of the interest expense based on the initial assumption\n",
    "interest_expenses = dcf_model.range('B9').value\n",
    "tax_rate = dcf_model.range('B5').value\n",
    "interest_expenses, tax_rate"
   ]
  },
  {
   "cell_type": "markdown",
   "metadata": {},
   "source": [
    "### Income tax \n",
    "This is a type of tax that governments impose on income generated by businesses and individuals within their jurisdiction. Income tax is used to fund public services, pay government obligations, and provide goods for citizens.\n",
    "<br> We will use the below formula for calculation of the tax amount:"
   ]
  },
  {
   "cell_type": "markdown",
   "metadata": {},
   "source": [
    "$$Income Tax = Tax Rate * EBIT$$"
   ]
  },
  {
   "cell_type": "code",
   "execution_count": null,
   "metadata": {},
   "outputs": [],
   "source": [
    "# Reding the Income tax calculated based on the assumptions for interest expense and tax rate above\n",
    "income_tax_2021 = dcf_model.range('G28').value \n",
    "income_tax_2022 = dcf_model.range('H28').value \n",
    "income_tax_2023 = dcf_model.range('I28').value \n",
    "income_tax_2024 = dcf_model.range('J28').value \n",
    "income_tax_2025 = dcf_model.range('K28').value\n",
    "\n",
    "income_tax_2021, income_tax_2022, income_tax_2023, income_tax_2024, income_tax_2025"
   ]
  },
  {
   "cell_type": "code",
   "execution_count": null,
   "metadata": {},
   "outputs": [],
   "source": [
    "# Let's see the values of the Net Income for the forecasted years\n",
    "net_income_2021 = dcf_model.range('G29').value \n",
    "net_income_2022 = dcf_model.range('H29').value \n",
    "net_income_2023 = dcf_model.range('I29').value \n",
    "net_income_2024 = dcf_model.range('J29').value \n",
    "net_income_2025 = dcf_model.range('K29').value \n",
    "\n",
    "net_income_2021, net_income_2022, net_income_2023, net_income_2024, net_income_2025"
   ]
  },
  {
   "cell_type": "markdown",
   "metadata": {},
   "source": [
    "### Net Working Capital\n",
    "Net working capital is the difference between a business's current assets and its current liabilities. Net working capital is calculated using line items from a business's balance sheet. Generally, the larger your net working capital balance is, the more likely it is that your company can cover its current obligations.\n",
    "<br>**In the model** we will folow the decreasing trend from the 5 historical years and we will apply it in the forecast usind a **constant value of -30.70 MCHF change in the Net Working Capital.**"
   ]
  },
  {
   "cell_type": "code",
   "execution_count": null,
   "metadata": {},
   "outputs": [],
   "source": [
    "# Net Working Capital Calculation under the assumption that for the next 5 years it will continue the decreasing temp with a constant value of MCHF 30.70 per year\n",
    "change_nwc = dcf_model.range('B12').value\n",
    "change_nwc"
   ]
  },
  {
   "cell_type": "code",
   "execution_count": null,
   "metadata": {},
   "outputs": [],
   "source": [
    "# Reading the calculated the net working capital values from the DCF Model file taking into consideration the assumptions above\n",
    "nwc_2020 = dcf_model.range('F31').value\n",
    "nwcF_2021 = dcf_model.range('G31').value \n",
    "nwcF_2022 = dcf_model.range('H31').value \n",
    "nwcF_2023 = dcf_model.range('I31').value\n",
    "nwcF_2024 = dcf_model.range('J31').value \n",
    "nwcF_2025 = dcf_model.range('K31').value\n",
    "\n",
    "nwcF_2021, nwcF_2022, nwcF_2023, nwcF_2024, nwcF_2025"
   ]
  },
  {
   "cell_type": "markdown",
   "metadata": {},
   "source": [
    "### Capital expenditures (CAPEX)\n",
    "These are funds used by a company to acquire, upgrade, and maintain physical assets such as property, plants, buildings, technology, or equipment. CapEx is often used to undertake new projects or investments by a company."
   ]
  },
  {
   "cell_type": "markdown",
   "metadata": {},
   "source": [
    "Formula and Calculation of CAPEX:\n",
    "\\begin{aligned} &\\text{CAPEX} = \\Delta \\text{PP&E} + \\text{Current Depreciation} \\\\ &\\textbf{where:}\\\\ &\\text{CAPEX} = \\text{Capital expenditures} \\\\ &\\Delta \\text{PP&E} = \\text{Change in property, plant, and equipment} \\\\ \\end{aligned} \n",
    " \n"
   ]
  },
  {
   "cell_type": "code",
   "execution_count": null,
   "metadata": {},
   "outputs": [],
   "source": [
    "# CAPEX calculation based on the assumption for being 4% from the Sales Revenue based on the historical average value from the last 5 years.\n",
    "capex_percent = dcf_model.range('B7').value\n",
    "capex_percent"
   ]
  },
  {
   "cell_type": "code",
   "execution_count": null,
   "metadata": {},
   "outputs": [],
   "source": [
    "# Reading CAPEX amount calculation per year\n",
    "capex_2021 = dcf_model.range('G33').value \n",
    "capex_2022 = dcf_model.range('H33').value \n",
    "capex_2023 = dcf_model.range('I33').value \n",
    "capex_2024 = dcf_model.range('J33').value \n",
    "capex_2025 = dcf_model.range('K33').value \n",
    "\n",
    "capex_2021, capex_2022, capex_2023, capex_2024, capex_2025"
   ]
  },
  {
   "cell_type": "markdown",
   "metadata": {},
   "source": [
    "### Free Cash Flow (FCF)\n",
    "Free cash flow (FCF) represents the cash a company generates after accounting for cash outflows to support operations and maintain its capital assets. Unlike earnings or net income, free cash flow is a measure of profitability that excludes the non-cash expenses of the income statement and includes spending on equipment and assets as well as changes in working capital from the balance sheet."
   ]
  },
  {
   "cell_type": "markdown",
   "metadata": {},
   "source": [
    "**Free Cash Flow Calculation (FCF)**\n",
    "$$Free Cash Flow = EBIT*(1-Tax Rate) + Depreciation\\&Amortization -  CAPEX - change in Net Working Capital$$\n",
    "or $$FCF = Net Income + Interest Expenses + Depreciation\\&Amortization - CAPEX - change in NWC$$\n",
    "<!-- # ebit\n",
    "#  +depr.&amort.\n",
    "#  + tax\n",
    "#  +capex\n",
    "#  + var.NWC\n",
    "#   =FCF  -->"
   ]
  },
  {
   "cell_type": "markdown",
   "metadata": {},
   "source": [
    "![FCF Calculation](FCF_calculation.png \"Title\")"
   ]
  },
  {
   "cell_type": "code",
   "execution_count": null,
   "metadata": {},
   "outputs": [],
   "source": [
    "# Reading the initially calculated values of the FCF in the next 5 years.\n",
    "fcf_2021 = dcf_model.range('G35').value \n",
    "fcf_2022 = dcf_model.range('H35').value \n",
    "fcf_2023 = dcf_model.range('I35').value\n",
    "fcf_2024 = dcf_model.range('J35').value\n",
    "fcf_2025 = dcf_model.range('K35').value\n",
    "\n",
    "fcf_2021, fcf_2022, fcf_2023, fcf_2024, fcf_2025"
   ]
  },
  {
   "cell_type": "markdown",
   "metadata": {},
   "source": [
    "### Terminal Value calculation\n",
    "Terminal value (TV) is the value of an asset, business, or project beyond the forecasted period when future \n",
    "cash flows can be estimated. Terminal value assumes a business will grow at a set growth rate forever after the \n",
    "forecast period. Terminal value often comprises a large percentage of the total assessed value.\n",
    "here are two commonly used methods to calculate terminal value—perpetual growth (Gordon Growth Model) and exit multiple.\n",
    "In the model I will use the the **exit multiple method** where it assumes that a business will be sold for a multiple of some market metric.\n",
    "We already stated in the beginning of the project that we will use the *EV/ EBITDA value from 2019*, where the multipe is **5x** and the last calculated EBTDA at the end of the 5th year as per the projection."
   ]
  },
  {
   "cell_type": "markdown",
   "metadata": {},
   "source": [
    "$$TV = \\frac{FCF * (1 + g)}{(d - g)}$$\n",
    "where: <br>\n",
    "$FCF$ = Free cash flow for the last forecast period <br>\n",
    "$g$ = Terminal growth rate <br>\n",
    "$d$ = discount rate (which is usually the weighted average cost of capital) <br>"
   ]
  },
  {
   "cell_type": "code",
   "execution_count": null,
   "metadata": {},
   "outputs": [],
   "source": [
    "# Reading the Terminal Value from the DCF model file\n",
    "multiplier = dcf_model.range('E4').value\n",
    "# tv_calc = ebitdaF_2025 * multiplier\n",
    "tv = dcf_model.range('K38').value \n",
    "tv"
   ]
  },
  {
   "cell_type": "markdown",
   "metadata": {},
   "source": [
    "### Discounted Cash Flow Formula\n",
    "Discounted cash flow (DCF) is a valuation method used to estimate the value of an investment based on its expected future cash flows. DCF analysis attempts to figure out the value of an investment today, based on projections of how much money it will generate in the future.\n",
    "The formula for DCF is:\n",
    "\n",
    "\\begin{aligned}&DCF=\\frac{CF_1}{1+r}^1+\\frac{CF_2}{1+r}^2+\\frac{CF_n}{1+r}^n\\\\&\\textbf{where:}\\\\&CF=\\text{The cash flow for the given year.}\\\\&\\qquad\\quad\\text{$CF_1$ is for year one, $CF_2$ is for year two,}\\\\&\\qquad\\quad\\text{$CF_n$ is for additional years}\\\\&r=\\text{The discount rate}\\end{aligned} "
   ]
  },
  {
   "cell_type": "markdown",
   "metadata": {},
   "source": [
    "### Present Value (PV)\n",
    "Present value (PV) is the current value of a future sum of money or stream of cash flows given a specified rate of return. Future cash flows are discounted at the discount rate, and the higher the discount rate, the lower the present value of the future cash flows.\n",
    "\n",
    "**PV Formula and Calculation**:\n",
    "\\begin{aligned} &\\text{Present Value} = \\dfrac{\\text{FV}}{(1+r)^n}\\\\ &\\textbf{where:}\\\\ &\\text{FV} = \\text{Future Value}\\\\ &r = \\text{Rate of return}\\\\ &n = \\text{Number of periods}\\\\ \\end{aligned} \n",
    "\n",
    "<br> The Present Value formula is used for calculating the Terminal Value in order to be comparable with the discounted cash flows."
   ]
  },
  {
   "cell_type": "code",
   "execution_count": null,
   "metadata": {},
   "outputs": [],
   "source": [
    "# Discounted TV at the end of the 5th year\n",
    "discount_rate = dcf_model.range('B3').value\n",
    "dicounted_tv = dcf_model.range('K39').value \n",
    "dicounted_tv"
   ]
  },
  {
   "cell_type": "code",
   "execution_count": null,
   "metadata": {},
   "outputs": [],
   "source": [
    "# Discounted FCF as initial values in the model\n",
    "dcf_2021 = dcf_model.range('G37').value\n",
    "\n",
    "dcf_2022 = dcf_model.range('H37').value\n",
    "\n",
    "dcf_2023 = dcf_model.range('I37').value \n",
    "\n",
    "dcf_2024 = dcf_model.range('J37').value \n",
    "\n",
    "dcf_2025 = dcf_model.range('H37').value \n",
    "\n",
    "dcf_2021, dcf_2022, dcf_2023, dcf_2024, dcf_2025"
   ]
  },
  {
   "cell_type": "markdown",
   "metadata": {},
   "source": [
    "### Enterprise Value (Net Present Value)\n",
    "$$Enterprise Value = {\\displaystyle \\sum _{t=1}^{n}{\\frac {FCFF_{t}}{(1+WACC_{t})^{t}}}+{\\frac {\\left[{\\frac {FCFF_{n+1}}{(WACC_{n+1}-g_{n+1})}}\\right]}{(1+WACC_{n})^{n}}}}$$\n",
    "\n",
    "where\n",
    "<br>$FCFF$ is the free cash flow to the firm (essentially operating cash flow minus capital expenditures) as reduced for tax\n",
    "<be>$WACC$ is the weighted average cost of capital, combining the cost of equity and the after-tax cost of debt\n",
    "<br>$t$ is the time period\n",
    "<br>$n$ is the number of time periods to \"maturity\" or exit\n",
    "<br>$g$ is the sustainable growth rate at that point"
   ]
  },
  {
   "cell_type": "markdown",
   "metadata": {},
   "source": [
    "#### Visual Example:"
   ]
  },
  {
   "cell_type": "markdown",
   "metadata": {},
   "source": [
    "![NPV](net_present_value_npv.png \"Title\")"
   ]
  },
  {
   "cell_type": "code",
   "execution_count": null,
   "metadata": {},
   "outputs": [],
   "source": [
    "# Reading the data of the estimated Enterprise/ Company Value\n",
    "enterprise_value = dcf_model.range('K40').value \n",
    "enterprise_value"
   ]
  },
  {
   "cell_type": "markdown",
   "metadata": {},
   "source": [
    "<div style=\"text-align: left\"><H3><font color=darkgreen>II Model and iNterprete</font></H3></div>\n",
    "<div style=\"text-align: justify\">The data is ready to be used and the model to be build. This is from where the fun part starts ... and “where the magic happens”!</div>"
   ]
  },
  {
   "cell_type": "markdown",
   "metadata": {},
   "source": [
    "### Monte Carlo Method using Python"
   ]
  },
  {
   "cell_type": "markdown",
   "metadata": {},
   "source": [
    "In finance, project management, energy, manufacturing, research, risk analysis and in many more areas Monte Carlo simulation is used to measure or account for risk and decision making.\n",
    "Monte Carlo simulation is basically building thousands of models with different scenario outcomes. By using probability distributions, variables can have different probabilities of different outcomes occurring. Probability distributions are a much more realistic way of describing uncertainty in variables of a risk analysis.\n",
    "It then calculates results over and over, each time using a different set of random values from the probability functions. Depending upon the number of uncertainties and the ranges specified for them, a Monte Carlo simulation could involve thousands or tens of thousands of recalculations before it is complete. Monte Carlo simulation produces distributions of possible outcome values."
   ]
  },
  {
   "cell_type": "markdown",
   "metadata": {},
   "source": [
    "<div style=\"text-align: justify\"> Having in mind the difiulty to make predictions on what will happen in the future, I will try to create and use three different Monte Carlo simulations which are linked to each other.</div>\n",
    "<div style=\"text-align: justify\"> The first simulation will be related to the sales revenue and it is based on the historical data of the sales of the Company.</div>\n",
    "<div style=\"text-align: justify\"> The second one is the simulation of the sales growth rate (based on the historical data of the sales of the Company).</div>\n",
    "<div style=\"text-align: justify\"> In the third simulation we will apply the outcome of the sales growth rate received in the above simulation and will calculate the Monte Carlo simulation based on the Discounted Cash Flows from the excel model.</div>\n",
    "<div style=\"text-align: justify\"><b>And the third simulation would be exactly the one which will show us the results regarding the Company Value </b> in 5 years using the Discounted Cash Flow method and Monte Carlo simulation.</div>"
   ]
  },
  {
   "cell_type": "markdown",
   "metadata": {},
   "source": [
    "### 1. Sales Revenue Forecasting"
   ]
  },
  {
   "cell_type": "markdown",
   "metadata": {},
   "source": [
    "And here it is the start of building my first simulation model regarding the sales revenue forecasting. In the part below we will run the simulation and export the result in the excel file used for the modeling. Part of the code used for the next 2 simulations is coming from [link](https://www.eloquens.com/) build by Rizwan Ahmed Surhio and changed a bit in order to fit the current project style and requirements."
   ]
  },
  {
   "cell_type": "markdown",
   "metadata": {},
   "source": [
    "In the beginning, let's load the historical data from the Company website based on the Company financial reports. This data will be used to visualize the historical trends and to calculate the mean, mim, max values and the standard deviation."
   ]
  },
  {
   "cell_type": "code",
   "execution_count": null,
   "metadata": {},
   "outputs": [],
   "source": [
    "# Load the historical data in million CHF\n",
    "sales_actual = pd.read_excel(\"Company Sales in Million CHF Data.xlsx\")\n",
    "sales_actual"
   ]
  },
  {
   "cell_type": "code",
   "execution_count": null,
   "metadata": {},
   "outputs": [],
   "source": [
    "# Time to calculate the mean, mim, max values from the sales_actual dataset\n",
    "min_sales = sales_actual['Sales'].min()\n",
    "max_sales = sales_actual['Sales'].max()\n",
    "mean_sales = sales_actual['Sales'].mean()\n",
    "f\"{min_sales: .2f}, {max_sales: .2f}, {mean_sales: .2f}\""
   ]
  },
  {
   "cell_type": "code",
   "execution_count": null,
   "metadata": {},
   "outputs": [],
   "source": [
    "# Calculating the standard deviation since I want to model the data with Gausian distribution\n",
    "std_sales = sales_actual['Sales'].std()\n",
    "f'{std_sales:.2f}'"
   ]
  },
  {
   "cell_type": "code",
   "execution_count": null,
   "metadata": {},
   "outputs": [],
   "source": [
    "# The assumption if the sales revenue are following Gausian distribution, \n",
    "#the 80% of the possible outcome sales data should be in the below interval\n",
    "f'{mean_sales - std_sales: .2f}, {mean_sales + std_sales: .2f}'"
   ]
  },
  {
   "cell_type": "code",
   "execution_count": null,
   "metadata": {},
   "outputs": [],
   "source": [
    "# Ploting a histogram using the historical sales data\n",
    "plt.style.use('seaborn-bright')\n",
    "plt.hist(sales_actual['Sales'], bins=10)\n",
    "plt.xlabel('Sales Revenue in MCHF')\n",
    "plt.ylabel('Frequency')\n",
    "plt.axvline(mean_sales, label=f'Average Value: {mean_sales: .2f}', color='r')\n",
    "plt.title('Historical Sales Distribution')\n",
    "plt.legend()\n",
    "plt.show()"
   ]
  },
  {
   "cell_type": "markdown",
   "metadata": {},
   "source": [
    "In the histogram above we see the distribution of the historical sales revenue. This is not normal disctribution but at the same time we have limited number of data. We see that the majority of the sales are in the range below 1500 MCHF, very limited number (2-3) in the range 1800-2600 MCHF, and high number above 2800 MCHF as well. The **average (mean) value** is represented by the horizontal red line showing the value **1946.22 MCHF**."
   ]
  },
  {
   "cell_type": "code",
   "execution_count": null,
   "metadata": {},
   "outputs": [],
   "source": [
    "# Ploting a bar diagram from the historical sales data.\n",
    "sales_actual.plot(x ='Year', y='Sales', kind = 'bar',  colormap='viridis', fontsize=9, figsize=(15,8))\n",
    "plt.ylabel('Sales Revenue', fontsize=9)\n",
    "plt.title(\"Sales Revenue Historical Data\")\n",
    "plt.show()"
   ]
  },
  {
   "cell_type": "code",
   "execution_count": null,
   "metadata": {},
   "outputs": [],
   "source": [
    "# Ploting a line diagram showing the historical trend in the sales revenue.\n",
    "sales_actual.plot(x ='Year', y='Sales', kind = 'line',  colormap='hsv', figsize=(15,8))\n",
    "plt.show()"
   ]
  },
  {
   "cell_type": "markdown",
   "metadata": {},
   "source": [
    "Checking the above bar and line plots we will crlearly see the historical trend showing **decrease in the sales revenues**. \n",
    "<br>The reasons for the decrease might be extremely different (including the COVID-19 crisis and the crisis from 2008) and are not subject of the analysis in the current project. "
   ]
  },
  {
   "cell_type": "code",
   "execution_count": null,
   "metadata": {},
   "outputs": [],
   "source": [
    "# Let's see again the calculated values of the mean, mim, max sales revenue from the sales_actual dataset\n",
    "print(f'Sales Minimum: {min_sales: .2f}\\nSales Maximum: {max_sales: .2f}\\nMean(average) Sales: {mean_sales: .2f}')"
   ]
  },
  {
   "cell_type": "markdown",
   "metadata": {},
   "source": [
    "In the below couple of cells we are starting with buoding the code for the Sales Revenue Forecast using the Monte Carlo simulation and setting an exampel of thresholds related to the sales and growth rate.\n",
    "For defining the values of the threshold the above sales statistics with minumum, mean and maximum value are used."
   ]
  },
  {
   "cell_type": "markdown",
   "metadata": {},
   "source": [
    "#### Initial Data Preparation"
   ]
  },
  {
   "cell_type": "code",
   "execution_count": null,
   "metadata": {},
   "outputs": [],
   "source": [
    "# Set number of desired itterations i.e number of desired simulated obervations \n",
    "\n",
    "itteration = 10000\n",
    "\n",
    "# Setting the desired x amounts.\n",
    "sales_thresholds = [500, 700, 900, 1100, 1500, 2000]\n",
    "\n",
    "# Likelihood/chances of revenue greater than x amount in %.\n",
    "growth_thresholds =[0.05,0.07,0.10,0.13,0.15,0.20]"
   ]
  },
  {
   "cell_type": "markdown",
   "metadata": {},
   "source": [
    "#### Visualisation of Results and Forecast"
   ]
  },
  {
   "cell_type": "markdown",
   "metadata": {},
   "source": [
    "With the code below we will calculate the mean and standard deviation value, we will draw random samples from a normal (Gaussian) distribution which will be used for sales revenue forecasting.\n",
    "<br>As well, the descriptive statistics and print out of the result would be calculated and presented.\n",
    "<br>The generated data from the simulation will be ppopulated in the excel file with the model."
   ]
  },
  {
   "cell_type": "code",
   "execution_count": null,
   "metadata": {},
   "outputs": [],
   "source": [
    "## Using mean / average of past years revenue as the starting point for expected revenue amount. \n",
    "\n",
    "revenue_mean = sales_actual['Sales'].mean()\n",
    "revenue_std = sales_actual['Sales'].std()\n",
    "\n",
    "# calculating random normal probabilities i.e monte carlo\n",
    "revenue_monte_carlo = np.random.normal(revenue_mean, revenue_std, itteration)\n",
    "sales_df = pd.DataFrame(revenue_monte_carlo, columns=['Forecasted Sales Revenue'])\n",
    "\n",
    "Min_revenue = revenue_monte_carlo.min()\n",
    "Max_revenue = revenue_monte_carlo.max()\n",
    "Average_revenue = revenue_monte_carlo.mean()\n",
    "Expected_volatility = revenue_monte_carlo.std()\n",
    "\n",
    "\n",
    "## Color function to print Result Heading \n",
    "def printmd(string, color='orange'):\n",
    "    colorstr = \"<span style='color:{}'></spna><span style='font-weight: bold'>{}</span>\".format(color, string)\n",
    "    display(Markdown(colorstr))\n",
    "\n",
    "# Creating the descriptive statistics with the outcome of the simulation of Sales Revenue    \n",
    "rev_stats = list(np.around(np.array([Min_revenue,Max_revenue,Average_revenue,Expected_volatility]),2))"
   ]
  },
  {
   "cell_type": "code",
   "execution_count": null,
   "metadata": {},
   "outputs": [],
   "source": [
    "sales_df.head()"
   ]
  },
  {
   "cell_type": "code",
   "execution_count": null,
   "metadata": {},
   "outputs": [],
   "source": [
    "# Displaying the existing sheets in the working excel file with the model\n",
    "dcf_file.sheets"
   ]
  },
  {
   "cell_type": "code",
   "execution_count": null,
   "metadata": {},
   "outputs": [],
   "source": [
    "# Taking the names of the sheets in new list in order further to check if the sheet already exist\n",
    "sNamList = [sh.name for sh in dcf_file.sheets]\n",
    "sNamList"
   ]
  },
  {
   "cell_type": "code",
   "execution_count": null,
   "metadata": {},
   "outputs": [],
   "source": [
    "# Checking if the sheet we need already exist in the excel file\n",
    "if 'Sales Forecast' in sNamList:\n",
    "    dcf_file.sheets('Sales Forecast').clear()\n",
    "else:\n",
    "    sales_sim_sht = dcf_file.sheets.add('Sales Forecast')"
   ]
  },
  {
   "cell_type": "code",
   "execution_count": null,
   "metadata": {},
   "outputs": [],
   "source": [
    "# Checking if the sheet we need already exist in the excel file\n",
    "if 'Simulation' in sNamList:\n",
    "    dcf_file.sheets('Simulation').clear()\n",
    "else:\n",
    "    simulation_sht = dcf_file.sheets.add('Simulation')"
   ]
  },
  {
   "cell_type": "markdown",
   "metadata": {},
   "source": [
    "In the next cells I will prepare and set up the needed sheets where to save the data from the simulation."
   ]
  },
  {
   "cell_type": "code",
   "execution_count": null,
   "metadata": {},
   "outputs": [],
   "source": [
    "sales_sim_sht = dcf_file.sheets('Sales Forecast')\n",
    "sales_sim_sht"
   ]
  },
  {
   "cell_type": "code",
   "execution_count": null,
   "metadata": {},
   "outputs": [],
   "source": [
    "simulation_sht = dcf_file.sheets('Simulation')\n",
    "simulation_sht"
   ]
  },
  {
   "cell_type": "code",
   "execution_count": null,
   "metadata": {},
   "outputs": [],
   "source": [
    "# Saving the data to the excel file\n",
    "sales_sim_sht.range('A1').options(pd.DataFrame, index=False).value = sales_df"
   ]
  },
  {
   "cell_type": "code",
   "execution_count": null,
   "metadata": {},
   "outputs": [],
   "source": [
    "# Descriptive statistics (variant 2)\n",
    "sales_stat = sales_df.describe()\n",
    "sales_stat"
   ]
  },
  {
   "cell_type": "code",
   "execution_count": null,
   "metadata": {},
   "outputs": [],
   "source": [
    "# Adding the statistic data into the excel model\n",
    "sales_sim_sht.range('C1').value = sales_stat"
   ]
  },
  {
   "cell_type": "code",
   "execution_count": null,
   "metadata": {},
   "outputs": [],
   "source": [
    "# Defining the cell ranges which will be formated - the output data from the simulation\n",
    "sales_out_range = sales_sim_sht.range('A1').expand() # the whole first 3 columns\n",
    "sales_out_header_range = sales_sim_sht.range('A1').expand('right') # the  headers in A, B columns\n",
    "sales_out_data_range = sales_sim_sht.range('A2').expand() # only the data from the columns\n",
    "\n",
    "# Defining the range to be formated from the descriptive statistics data frame\n",
    "sles_stats_range = sales_sim_sht.range('C1').expand()\n",
    "sales_stats_header_range = sales_sim_sht.range('D1').expand('right')\n",
    "sales_stats_data_range = sales_sim_sht.range('D2').expand() # only the data\n",
    "sales_stats_name_range = sales_sim_sht.range('C2').expand('down')\n"
   ]
  },
  {
   "cell_type": "code",
   "execution_count": null,
   "metadata": {},
   "outputs": [],
   "source": [
    "# Font and Size\n",
    "header = [sales_out_header_range, sales_stats_header_range, sales_stats_name_range]\n",
    "\n",
    "for cells in header:\n",
    "    cells.api.Font.Name = 'Arial'\n",
    "    cells.api.Font.size = 11\n",
    "    cells.api.Font.Bold= True\n",
    "    cells.color = rgb_to_int((255, 0, 255))  # the background color\n",
    "    cells.api.Font.Color= rgb_to_int((255, 255, 255))  # font color\n",
    "    cells.column_width = 13\n",
    "    cells.api.WrapText = True"
   ]
  },
  {
   "cell_type": "code",
   "execution_count": null,
   "metadata": {},
   "outputs": [],
   "source": [
    "# Aplying Center Alignment\n",
    "sales_out_range.api.HorizontalAlignment = xw.constants.HAlign.xlHAlignCenter\n",
    "sles_stats_range.api.HorizontalAlignment = xw.constants.HAlign.xlHAlignCenter\n"
   ]
  },
  {
   "cell_type": "code",
   "execution_count": null,
   "metadata": {},
   "outputs": [],
   "source": [
    "sales_stats_name_range.color= (255, 204, 255)\n",
    "sales_stats_name_range.autofit()"
   ]
  },
  {
   "cell_type": "code",
   "execution_count": null,
   "metadata": {},
   "outputs": [],
   "source": [
    "# Formating the numbers:\n",
    "sales_out_data_range.number_format = '0.00'\n",
    "sales_stats_data_range.number_format = '0.00'\n",
    "\n",
    "# Setting background color:\n",
    "sales_out_data_range.color = rgb_to_int((230, 230, 255))\n",
    "sales_stats_data_range.color = rgb_to_int((230, 230, 255))\n",
    "sales_stats_name_range.color = rgb_to_int((255, 0, 255))"
   ]
  },
  {
   "cell_type": "code",
   "execution_count": null,
   "metadata": {},
   "outputs": [],
   "source": [
    "for border_id in range(7,13):\n",
    "    sales_out_data_range.api.Borders(border_id).Color = 0xFFFFFF # white border frame\n",
    "    sales_out_data_range.api.Borders(border_id).Weight = 2 # thin border\n",
    "    \n",
    "    sales_out_data_range.api.Borders(border_id).Color = 0xFFFFFF # white border frame\n",
    "    sales_out_data_range.api.Borders(border_id).Weight = 2 # thin border"
   ]
  },
  {
   "cell_type": "code",
   "execution_count": null,
   "metadata": {},
   "outputs": [],
   "source": [
    "# for style in plt.style.available:\n",
    "#     print(style)"
   ]
  },
  {
   "cell_type": "markdown",
   "metadata": {},
   "source": [
    "##### Now let's visualize the result of the simulation in a graph which afterwards will be copied in the model. "
   ]
  },
  {
   "cell_type": "code",
   "execution_count": null,
   "metadata": {},
   "outputs": [],
   "source": [
    "printmd(\"RESULTS:\")\n",
    "\n",
    "# Creation of the diagram with the result of the sales revemue simulation\n",
    "fig = plt.figure(dpi=150, figsize=(12, 6))\n",
    "fig.patch.set_facecolor('white')\n",
    "plt.title(\"Monte Carlo Simulation of Revenue\", fontsize=14)\n",
    "\n",
    "plt.plot(Average_revenue,linewidth=5, c='red', label=\"Average\")\n",
    "plt.legend(loc='upper left')\n",
    "\n",
    "plt.grid()\n",
    "plt.grid(color='yellow', linestyle=':', linewidth=0.5)\n",
    "\n",
    "plt.xlabel('Number of Simulations', fontsize=9)\n",
    "plt.ylabel(\"Revenue (MCHF)\", fontsize=9)\n",
    "\n",
    "plt.plot(revenue_monte_carlo,linewidth=0.7, color='salmon')\n",
    "plt.axhline(y=Average_revenue,linewidth=1.5, color='red',linestyle='-' )\n",
    "\n",
    "# Adding the dark grey area on the figure representing the distribution\n",
    "plt.axhspan(Average_revenue-Expected_volatility,\n",
    "            Average_revenue+Expected_volatility, facecolor='0.7', alpha=0.7)\n",
    "\n",
    "plt.legend(loc='lower left', fontsize=9)\n",
    "\n",
    "x_pos = 1\n",
    "y_pos = Average_revenue + (2.8 * Expected_volatility)\n",
    "\n",
    "plt.text(x_pos, y_pos, '- Minimum Level : {} \\n'\n",
    "                           '- Maximum Level : {} \\n- Average Level : {} \\n'\n",
    "                           '- Volatility    : {} '\n",
    "         .format(rev_stats[0], rev_stats[1], rev_stats[2], rev_stats[3]) ,fontsize=10)\n",
    "\n",
    "\n",
    "low_vol = Average_revenue-Expected_volatility\n",
    "high_vol = Average_revenue+Expected_volatility\n",
    "\n",
    "rev_mov = list(np.around(np.array([high_vol,low_vol]),2))\n",
    "\n",
    "print('')\n",
    "print('Major Revenue $ movement (1 Standard Deviation) is between {} and {} in the dark gray area'.format(rev_mov[0],rev_mov[1]))\n"
   ]
  },
  {
   "cell_type": "code",
   "execution_count": null,
   "metadata": {},
   "outputs": [],
   "source": [
    "# To place the figures in the excel file with the simulation model\n",
    "rng1 = dcf_file.sheets['Sales Forecast'].range('F1')\n",
    "sales_sim_sht.pictures.add(fig, name='SalesForecast', update=True, top= rng1.top, left = rng1.left)"
   ]
  },
  {
   "cell_type": "markdown",
   "metadata": {},
   "source": [
    "The above nice diagram looks like an electrocardiogram, especially if the itterations are lower number. On the graph we can see the outcome from every simulation. The values are so different going from negative revenue values to high positive values (e.g. from -2000 MCHF to +6000 MCHF).\n",
    "<br> Depending on the number of the simulation the lines of the graph are almost merging and it becomes a bit challenging to read the exact value related to the exact itteration.\n",
    "<br> The more number of simulation we have, the most we see the diagram like a sound graph (this is my visual association)."
   ]
  },
  {
   "cell_type": "markdown",
   "metadata": {},
   "source": [
    "#### Developing Possibilities of Revenues\n",
    "Here we will see in different format the possibilities having the specified in the treshold variable revenues.\n",
    "<br>The main purpose of the below code is to present the outcome in a nice statistical view."
   ]
  },
  {
   "cell_type": "code",
   "execution_count": null,
   "metadata": {},
   "outputs": [],
   "source": [
    "printmd(\"RESULTS:\")\n",
    "print(\"Expected Revenue(MCHF):\\n Minimum Revenue : {} MCHF \\n Maximum Revenue : {} MCHF\"\n",
    "      \"\\n Average Revenue : {} MCHF\\n Volatility      : {} MCHF\"\n",
    "      .format(rev_stats[0],rev_stats[1],rev_stats[2],rev_stats[3]))\n",
    "print('')\n",
    "\n",
    "# This is the function which will calculate the different possivilities based on the pre-defines tresholds.\n",
    "def rev_possibilities(data, monte_carlo):\n",
    "    for i in data:\n",
    "        per = []\n",
    "        threshold = []\n",
    "\n",
    "        ## Checking if revenue is more than threshold revenue i.e. 500 MCHF\n",
    "        above_certain = monte_carlo[np.where(monte_carlo > i)]\n",
    "\n",
    "\n",
    "        ## Checking how many times the threshold revenue come up in the list\n",
    "        ## divided by total itterations\n",
    "        ## to find probabilty\n",
    "        percentage = round((above_certain.size / itteration * 100), 2)\n",
    "        per.append(percentage)\n",
    "        threshold.append(i)\n",
    "        print(\"Likelihood of Revenue greater than {} MCHF: {}%\".format(i, percentage))\n",
    "\n",
    "\n",
    "printmd(\"REVENUE AMOUNT POSSIBILITIES :\")\n",
    "# Running the function\n",
    "rev_possibilities(sales_thresholds,revenue_monte_carlo)\n",
    "\n",
    "low_vol = Average_revenue-Expected_volatility\n",
    "high_vol = Average_revenue+Expected_volatility\n",
    "\n",
    "rev_mov = list(np.around(np.array([high_vol,low_vol]),2))\n",
    "\n",
    "print('')\n",
    "print('Major Revenue movement in MCHF (1 Standard Deviation) is between {} and {} in the dark gray area.'.format(rev_mov[0],rev_mov[1]))"
   ]
  },
  {
   "cell_type": "markdown",
   "metadata": {},
   "source": [
    "Let's try to see the forecasted sales data with a <b>histogram</b> (the first graph from the below figure). \n",
    "<br> The greated is the number of the itterations the result will be closer to the normal distribution.\n",
    "<br> On the histogram we can see the average value represented by the horizontal red line."
   ]
  },
  {
   "cell_type": "code",
   "execution_count": null,
   "metadata": {},
   "outputs": [],
   "source": [
    "sim_figure_sales = plt.figure(figsize=(12, 5))\n",
    "\n",
    "plt.subplot(1,2,1)\n",
    "# Histogram of the Estimated Company Value\n",
    "plt.hist(sales_df['Forecasted Sales Revenue'], density=True, bins=100)\n",
    "plt.xlabel('Sales Revenue')\n",
    "plt.ylabel('Frequency')\n",
    "plt.title('Distribution of Sales Revenue', fontsize=12)\n",
    "plt.axvline(sales_df['Forecasted Sales Revenue'].mean(), label=f'Average Value: {rev_stats[2]:.2f}', color='r')\n",
    "plt.legend()\n",
    "\n",
    "plt.subplot(1,2,2)\n",
    "x = np.sort(sales_df['Forecasted Sales Revenue'])\n",
    "y = np.arange(1, len(x)+1)/len(x)\n",
    "plt.plot(x, y, marker = '.', linestyle = 'none')\n",
    "plt.xlabel('Forecasted Sales Revenue')\n",
    "plt.ylabel('Probability')\n",
    "plt.title('Cumulative Distribution Function')\n",
    "plt.show()\n"
   ]
  },
  {
   "cell_type": "code",
   "execution_count": null,
   "metadata": {},
   "outputs": [],
   "source": [
    "# To place the figures in the excel file with the simulation model\n",
    "rng2 = dcf_file.sheets['Sales Forecast'].range('F27')\n",
    "sales_sim_sht.pictures.add(sim_figure_sales, name='Sales Forecast Histogram & CDF', update=True, top= rng2.top, left = rng2.left)"
   ]
  },
  {
   "cell_type": "markdown",
   "metadata": {},
   "source": [
    "##### Comulative Distribution Function:\n",
    "The cumulative distribution function (CDF) of a random variable is another method to describe the distribution of random variables. The advantage of the CDF is that it can be defined for any kind of random variable.<br>\n",
    "The cumulative distribution function (CDF) of random variable X is defined as\n",
    "$$FX(x)=P(X≤x)$$ for all $x∈R$.\n",
    "Shows what is the likelihood the company value to fall below a trashhold.\n",
    "<br>This is the second diagram visualizing the above calculated data."
   ]
  },
  {
   "cell_type": "markdown",
   "metadata": {},
   "source": [
    "For example on the secong gpraph from the above figure, we can see that there is 20% probability the sales volume to be less than 1000 MCHF, less than 2000 MCHF around 50% etc."
   ]
  },
  {
   "cell_type": "markdown",
   "metadata": {},
   "source": [
    "### 2. Simulation of Sales Growth Rate"
   ]
  },
  {
   "cell_type": "markdown",
   "metadata": {},
   "source": [
    "It is the moment to make a Monte Carlo simulation regarding the sales growth rate.\n",
    "<br>Again, part of the code used for the next 2 simulations is coming from [link](https://www.eloquens.com/) build by Rizwan Ahmed Surhio and changed a bit in order to fit the current project style and requirements.\n",
    "<br>The outcome from this simulation will be used as an input in the final simulation which will calculate the company value based on the DCF method."
   ]
  },
  {
   "cell_type": "markdown",
   "metadata": {},
   "source": [
    "We will use np for the initial generation of the growth rate based on the historical sales data.\n",
    " - np.exp - calculate the exponential of all elements in the input array.\n",
    " - np.diff - Calculate the n-th discrete difference along the given axis, where The first difference is given by out[i] = a[i+1] - a[i] along the given axis, higher differences are calculated by using diff recursively.\n",
    " Examples\n",
    "x = np.array([1,2,4,7,0])\n",
    "np.diff(x)\n",
    "array([1,2,3,-7])\n",
    " - np.log - Natural logarithm, element-wise. The natural logarithm log is the inverse of the exponential function, so that log(exp(x)) = x. The natural logarithm is logarithm in base e."
   ]
  },
  {
   "cell_type": "code",
   "execution_count": null,
   "metadata": {},
   "outputs": [],
   "source": [
    "# Calculation of the sales growth rate using the historical sales data; this is the historical trend\n",
    "growth_rate = np.exp(np.diff(np.log(sales_actual['Sales']))) - 1\n",
    "g_rate_df = pd.DataFrame(growth_rate, columns=['Historical Growth Rates'])\n",
    "\n",
    "# Calculation of the mean & standard deviation values\n",
    "growth_rate_mean = growth_rate.mean()\n",
    "growth_rate_std_dev =  growth_rate.std()\n",
    "\n",
    "\n",
    "# Generation of the simulation based on random numbers (Normal Distribution) and the pre-defined number of itterations \n",
    "growth_monte_carlo = np.random.normal(growth_rate_mean,growth_rate_std_dev,itteration)\n",
    "growth_df = pd.DataFrame(growth_monte_carlo, columns=['Forecasted Sales Growth'])\n",
    "\n",
    "Min_growth = growth_monte_carlo.min() #*100\n",
    "Max_growth = growth_monte_carlo.max() #* 100\n",
    "Average_revenue_grwoth = growth_monte_carlo.mean() #*100\n",
    "Expected_g_volatility = growth_monte_carlo.std() #*100\n"
   ]
  },
  {
   "cell_type": "code",
   "execution_count": null,
   "metadata": {},
   "outputs": [],
   "source": [
    "growth_df.head()"
   ]
  },
  {
   "cell_type": "code",
   "execution_count": null,
   "metadata": {},
   "outputs": [],
   "source": [
    "# Viewing the trend of the growth rate in a table format\n",
    "g_rate_df"
   ]
  },
  {
   "cell_type": "code",
   "execution_count": null,
   "metadata": {},
   "outputs": [],
   "source": [
    "# Taking the names of the sheets in new list in order further to check if the sheet already exist\n",
    "sNamList = [sh.name for sh in dcf_file.sheets]\n",
    "sNamList"
   ]
  },
  {
   "cell_type": "code",
   "execution_count": null,
   "metadata": {},
   "outputs": [],
   "source": [
    "# Now the new sheet for the Growth Rate simulation will be created/ cleared in the working excel file.\n",
    "# Checking if the sheet we need already exist in the excel file\n",
    "if 'Growth Forecast' in sNamList:\n",
    "    dcf_file.sheets('Growth Forecast').clear()\n",
    "else:\n",
    "    growth_sim_sht = dcf_file.sheets.add('Growth Forecast')"
   ]
  },
  {
   "cell_type": "code",
   "execution_count": null,
   "metadata": {},
   "outputs": [],
   "source": [
    "growth_sim_sht = dcf_file.sheets('Growth Forecast')\n",
    "growth_sim_sht"
   ]
  },
  {
   "cell_type": "code",
   "execution_count": null,
   "metadata": {},
   "outputs": [],
   "source": [
    "# Saving the data to the excel file\n",
    "growth_sim_sht.range('A1').options(pd.DataFrame, index=False).value = growth_df"
   ]
  },
  {
   "cell_type": "code",
   "execution_count": null,
   "metadata": {},
   "outputs": [],
   "source": [
    "growth_sim_sht.range('C1').options(pd.DataFrame, index=False).value = g_rate_df"
   ]
  },
  {
   "cell_type": "code",
   "execution_count": null,
   "metadata": {},
   "outputs": [],
   "source": [
    "# Descriptive statistics (variant 2)\n",
    "g_statisics = growth_df.describe()\n",
    "g_statisics"
   ]
  },
  {
   "cell_type": "code",
   "execution_count": null,
   "metadata": {},
   "outputs": [],
   "source": [
    "# Adding the statistic data into the excel model\n",
    "growth_sim_sht.range('E1').value = g_statisics"
   ]
  },
  {
   "cell_type": "code",
   "execution_count": null,
   "metadata": {},
   "outputs": [],
   "source": [
    "# Descriptive statistics (variant 2)\n",
    "# This statistics I will not copy in the excel file. It was build just from curiousity.\n",
    "g_historical_stats = g_rate_df.describe()\n",
    "g_historical_stats"
   ]
  },
  {
   "cell_type": "code",
   "execution_count": null,
   "metadata": {},
   "outputs": [],
   "source": [
    "# Defining the cell ranges which will be formated - the output data from the simulation\n",
    "g_range = growth_sim_sht.range('A1').expand() # the whole first 3 columns\n",
    "g_header_range = growth_sim_sht.range('A1').expand('right') # the  headers in A, B columns\n",
    "g_data_range = growth_sim_sht.range('A2').expand() # only the data from the columns\n",
    "\n",
    "# Defining the ranges which will be formated\n",
    "g_hist_range = growth_sim_sht.range('C1').expand() # the whole first 3 columns\n",
    "g_hist_header_range = growth_sim_sht.range('C1').expand('right') # the  headers in A, B columns\n",
    "g_hist_data_range = growth_sim_sht.range('C2').expand() # only the data from the columns\n",
    "\n",
    "# Defining the range to be formated from the descriptive statistics data frame\n",
    "g_stats_range = growth_sim_sht.range('E1').expand()\n",
    "g_stats_header_range = growth_sim_sht.range('F1').expand('right')\n",
    "g_stats_data_range = growth_sim_sht.range('F2').expand() # only the data\n",
    "g_stats_name_range = growth_sim_sht.range('E2').expand('down')"
   ]
  },
  {
   "cell_type": "code",
   "execution_count": null,
   "metadata": {},
   "outputs": [],
   "source": [
    "# Font and Size\n",
    "header = [g_header_range, g_stats_header_range, g_stats_name_range, g_hist_header_range]\n",
    "\n",
    "for cells in header:\n",
    "    cells.api.Font.Name = 'Arial'\n",
    "    cells.api.Font.size = 11\n",
    "    cells.api.Font.Bold= True\n",
    "    cells.color = rgb_to_int((255, 0, 255))  # the background color\n",
    "    cells.api.Font.Color= rgb_to_int((255, 255, 255))  # font color\n",
    "    cells.column_width = 13\n",
    "    cells.api.WrapText = True\n"
   ]
  },
  {
   "cell_type": "code",
   "execution_count": null,
   "metadata": {},
   "outputs": [],
   "source": [
    "# Aplying Center Alignment\n",
    "g_data_range.api.HorizontalAlignment = xw.constants.HAlign.xlHAlignCenter\n",
    "g_stats_data_range.api.HorizontalAlignment = xw.constants.HAlign.xlHAlignCenter\n",
    "g_hist_data_range.api.HorizontalAlignment = xw.constants.HAlign.xlHAlignCenter"
   ]
  },
  {
   "cell_type": "code",
   "execution_count": null,
   "metadata": {},
   "outputs": [],
   "source": [
    "g_stats_name_range.autofit()"
   ]
  },
  {
   "cell_type": "code",
   "execution_count": null,
   "metadata": {},
   "outputs": [],
   "source": [
    "# Formating the numbers:\n",
    "g_data_range.number_format = '0.00'\n",
    "g_stats_data_range.number_format = '0.00'\n",
    "g_hist_data_range.number_format = '0.00'\n",
    "\n",
    "# Setting background color:\n",
    "g_data_range.color = (230, 230, 255)\n",
    "g_stats_data_range.color = (230, 230, 255)\n",
    "g_hist_data_range.color = (230, 230, 255)"
   ]
  },
  {
   "cell_type": "code",
   "execution_count": null,
   "metadata": {},
   "outputs": [],
   "source": [
    "# setting the border style\n",
    "for border_id in range(7,13):\n",
    "    g_range.api.Borders(border_id).Color = 0xFFFFFF # white border frame\n",
    "    g_range.api.Borders(border_id).Weight = 2 # thin border\n",
    "    \n",
    "    g_stats_range.api.Borders(border_id).Color = 0xFFFFFF # white border frame\n",
    "    g_stats_range.api.Borders(border_id).Weight = 2 # thin border\n",
    "    \n",
    "    g_hist_range.api.Borders(border_id).Color = 0xFFFFFF # white border frame\n",
    "    g_hist_range.api.Borders(border_id).Weight = 2 # thin border"
   ]
  },
  {
   "cell_type": "markdown",
   "metadata": {},
   "source": [
    "##### Now let's visualize the result of the simulation in a graph which afterwards will be copied in the model. \n",
    "The code, the logic and the main graph are similar to the previous simulation for the sales revenue forecast."
   ]
  },
  {
   "cell_type": "code",
   "execution_count": null,
   "metadata": {},
   "outputs": [],
   "source": [
    "# Result visualization code\n",
    "printmd(\"RESULT:\")\n",
    "\n",
    "g = growth_monte_carlo \n",
    "\n",
    "g_fig = plt.figure(dpi=150, figsize=(12, 6))\n",
    "plt.title(\"Monte Carlo Simulation of Revenue Grwoth\", fontsize=12)\n",
    "plt.plot(Average_revenue_grwoth,linewidth=2, c='red', label=\"Average\", linestyle='--')\n",
    "plt.legend(loc='lower left')\n",
    "\n",
    "plt.grid(color='yellow', linestyle=':', linewidth=0.5)\n",
    "plt.xlabel('Number of Simulations', fontsize=9)\n",
    "plt.ylabel(\"Revenue Growth \", fontsize=9)\n",
    "\n",
    "# Adding the dark grey area on the figure representing the distribution\n",
    "plt.axhspan(Average_revenue_grwoth-Expected_g_volatility,Average_revenue_grwoth\n",
    "            + Expected_g_volatility, facecolor='0.7', alpha=0.5)\n",
    "\n",
    "plt.plot(g,linewidth=0.2, color='purple')\n",
    "plt.axhline(y=Average_revenue_grwoth,linewidth=1.5, color='red',linestyle='--' )\n",
    "plt.show()\n",
    "\n",
    "printmd(\"RESULTS:\")\n",
    "\n",
    "g_stats = list(np.around(np.array([Min_growth,Max_growth,\n",
    "                                   Average_revenue_grwoth,Expected_g_volatility]),2))\n",
    "\n",
    "print(\"Expected growth:\\n Minimum growth : {} \\n Maximum growth : {}\"\n",
    "      \"\\n Average growth : {} \\n Volatility     : {}\"\n",
    "      .format(g_stats[0],g_stats[1],g_stats[2],g_stats[3]))\n",
    "\n",
    "print('')\n",
    "# Defining the function which to visualize the outcome\n",
    "def rev_possibilities(data, monte_carlo):\n",
    "    for i in data:\n",
    "        per = []\n",
    "        threshold = []\n",
    "\n",
    "        ## Checking if revenue is more than threshold revenue i.e. 400 MCHF\n",
    "        above_certain = monte_carlo[np.where(monte_carlo > i)]\n",
    "\n",
    "\n",
    "        ## Checkinh how many times the threshold revenue come up\n",
    "        ## in the list divided by total itterations\n",
    "        ## to find probabilty\n",
    "        percentage = round((above_certain.size / itteration * 100), 2)\n",
    "        per.append(percentage)\n",
    "        threshold.append(i)\n",
    "        print(\"Likelihood of Revenue growth greater than {}: {}%\"\n",
    "              .format(i, percentage))\n",
    "\n",
    "printmd(\"REVENUE GROWTH RATE POSSIBILITIES :\")    \n",
    "# Running the function\n",
    "rev_possibilities(growth_thresholds,growth_monte_carlo)\n",
    "\n",
    "low_g_vol = Average_revenue_grwoth-Expected_g_volatility\n",
    "high_g_vol = Average_revenue_grwoth+Expected_g_volatility\n",
    "my_list = list(np.around(np.array([high_g_vol,low_g_vol]),2))\n",
    "\n",
    "print('')\n",
    "print('Major revenue growth movement (1 Standard Deviation) is between {} and {} in gray area'\n",
    "      .format(my_list[0],my_list[1]))"
   ]
  },
  {
   "cell_type": "markdown",
   "metadata": {},
   "source": [
    "The diagram is quite similar to the one from the previous simulation with the note that here we review the possible random values of the growth rates and not the sales revenue.\n",
    "<br>This figure will find it's place in the excel file as well.\n",
    "<br>The possibilities for having the growth rates in the pre-defined ranges can be ssen in the above statistics prepared with the diagram."
   ]
  },
  {
   "cell_type": "code",
   "execution_count": null,
   "metadata": {},
   "outputs": [],
   "source": [
    "# To place the figures in the excel file with the simulation model\n",
    "rng3 = dcf_file.sheets['Growth Forecast'].range('H1')\n",
    "growth_sim_sht.pictures.add(g_fig, name='Monte Carlo Simulation of Revenue Grwoth', update=True, top= rng3.top, left = rng3.left)"
   ]
  },
  {
   "cell_type": "code",
   "execution_count": null,
   "metadata": {},
   "outputs": [],
   "source": [
    "g_figure = plt.figure(figsize=(12, 5))\n",
    "\n",
    "# Histogram of the Forecasted Sales Growth\n",
    "plt.subplot(1,2,1)\n",
    "\n",
    "plt.hist(growth_df['Forecasted Sales Growth'], density=True, bins=100)\n",
    "plt.xlabel('Growth Rate')\n",
    "plt.ylabel('Frequency')\n",
    "plt.title('Distribution of Growth Rate', fontsize=12)\n",
    "plt.axvline(growth_df['Forecasted Sales Growth'].mean(), label='Average Value', color='r')\n",
    "plt.legend()\n",
    "\n",
    "plt.subplot(1,2,2)\n",
    "x = np.sort(growth_df['Forecasted Sales Growth'])\n",
    "y = np.arange(1, len(x)+1)/len(x)\n",
    "plt.plot(x, y, marker = '.', linestyle = 'none')\n",
    "plt.xlabel('Forecasted Growth Rate')\n",
    "plt.ylabel('Probability')\n",
    "plt.title('Cumulative Distribution Function')\n",
    "\n",
    "plt.show()"
   ]
  },
  {
   "cell_type": "code",
   "execution_count": null,
   "metadata": {},
   "outputs": [],
   "source": [
    "# To place the figures in the excel file with the simulation model\n",
    "rng4 = dcf_file.sheets['Growth Forecast'].range('H27')\n",
    "growth_sim_sht.pictures.add(g_figure, name='Figure2', update=True, top= rng4.top, left = rng4.left)"
   ]
  },
  {
   "cell_type": "markdown",
   "metadata": {},
   "source": [
    "As per the histogram we can see the distribution of the outcomes related to the sales growth rate based on the Monte Carlos simulation model. It looks close to the normal distribution histogram with an average value represented by the red horizontal line.\n",
    "<br> The second graph is the comulative distribution function where we can see what is the probability having the growth rate below or above a sertain value. For example, the likelihood having negative growth rate (less than 0.00) is 0.6 (unfortunately the historical trend oth the sales growth rate was not good as well)."
   ]
  },
  {
   "cell_type": "markdown",
   "metadata": {},
   "source": [
    "### 3. Monte Carlo Simulation regarding the Company Value based on the DCF Model"
   ]
  },
  {
   "cell_type": "markdown",
   "metadata": {},
   "source": [
    "And we are coming back to last the Monte Carlo simulation regarding the company value evaluation. Here, based on the outcome from the previous simulation I will buid the last model which to fullfill the main object of the project - estimation of the Company value in 5 years using the Discounted cash flow (DCF) method."
   ]
  },
  {
   "cell_type": "markdown",
   "metadata": {},
   "source": [
    "For the creation of the model I will try to use 2 of the distribution types (in order to have some diversity) - the <b>normal and the uniform</b> distributions.\n"
   ]
  },
  {
   "cell_type": "markdown",
   "metadata": {},
   "source": [
    "#### Normal Distribution\n",
    "The normal distribution is also referred to as Gaussian or Gauss distribution. The distribution is widely used in natural and social sciences. It is made relevant by the Central Limit Theorem, which states that the averages obtained from independent, identically distributed random variables tend to form normal distributions, regardless of the type of distributions they are sampled from. \n",
    "<br>It will be used for the generation of the random values of the growth rate based on the average and standard deviation values resulted from the previous simulation.\n",
    "#### Uniform Distribution\n",
    "Uniform distribution is the simplest statistical distribution. The concept of uniform distribution, as well as the random variables it describes, form the foundation of statistical analysis and probability theory. he percentage of the probability is 1 divided by the total number of outcomes.\n",
    "<br>This distribution will be used for the generation of the random values of the expected discount rates. Here the assumption for minumum of 5% and maximum of 10% discount rate will be applied for the simulation."
   ]
  },
  {
   "cell_type": "code",
   "execution_count": null,
   "metadata": {},
   "outputs": [],
   "source": [
    "# Assumption for Normal Distribution of the Growth Rate => using the mean value and standart deviation\n",
    "growth_mean = g_stats[2] # the assumption for the growth rate mean value based on the above Growth Rate Simulation\n",
    "growth_std = g_stats[3] # the accumption for the standard deviation of the growth rate based on the above Growth Rate Simulation\n",
    "\n",
    "growth_mean,growth_std\n",
    "# test:\n",
    "# growth_rate = random.normalvariate(growth_mean, growth_std)\n",
    "# growth_rate"
   ]
  },
  {
   "cell_type": "code",
   "execution_count": null,
   "metadata": {},
   "outputs": [],
   "source": [
    "# Assumption for Discount Rate (the expected rate of return) => using the Uniform Distribution\n",
    "discount_rate_low = 0.05\n",
    "discount_rate_high = 0.10\n",
    "\n",
    "# test:\n",
    "data = np.random.uniform(discount_rate_low, discount_rate_high, 10000)\n",
    "plt.hist(data, bins=10)\n",
    "plt.show()\n"
   ]
  },
  {
   "cell_type": "markdown",
   "metadata": {},
   "source": [
    "On the histogram we see that the draws are between 5%-10% with pretty much similar likelihood. \n",
    "Even though it is visible that some numbers are more likely than the others which is a result from the limited number of draws."
   ]
  },
  {
   "cell_type": "code",
   "execution_count": null,
   "metadata": {},
   "outputs": [],
   "source": [
    "# Creating the DCF simulation function\n",
    "def dcf_simulation(num_sim, growth_mean, growth_std, discount_rate_low, discount_rate_high):\n",
    "    outcome = []\n",
    "    # to clear the Simulation sheet before every run of the script\n",
    "    dcf_file.sheets('Simulation').clear()\n",
    "    \n",
    "    num_sim = itteration # the itteration number\n",
    "\n",
    "    for i in range(num_sim):\n",
    "        growth_rate = random.normalvariate(growth_mean, growth_std)\n",
    "        dcf_model.range('B2').value = growth_rate\n",
    "\n",
    "        disc_rate = uniform(low=discount_rate_low, high=discount_rate_high)\n",
    "        dcf_model.range('B3').value = disc_rate\n",
    "\n",
    "        price = dcf_model.range('K40').value\n",
    "        price = float(price)\n",
    "\n",
    "        outcome.append((growth_rate, disc_rate, price))\n",
    "    df = pd.DataFrame(outcome, columns=['Sales Growth Rate', 'Discount Rate', 'Estimated Company Value'])\n",
    "\n",
    "    return df"
   ]
  },
  {
   "cell_type": "code",
   "execution_count": null,
   "metadata": {},
   "outputs": [],
   "source": [
    "# Running the function. The model starts the big calculation ...\n",
    "df = dcf_simulation(itteration, growth_mean, growth_std, discount_rate_low, discount_rate_high)\n",
    "df.head()"
   ]
  },
  {
   "cell_type": "code",
   "execution_count": null,
   "metadata": {},
   "outputs": [],
   "source": [
    "# Entering the simulation data in the Exccel file\n",
    "dcf_file.sheets('Simulation').range('A1').options(pd.DataFrame, index=False).value = df"
   ]
  },
  {
   "cell_type": "markdown",
   "metadata": {},
   "source": [
    "#### Ploting Some Graphs with the outcome of the above simulation"
   ]
  },
  {
   "cell_type": "markdown",
   "metadata": {},
   "source": [
    "Let's use some data frames and create some useful plots and discriptive statistics which to visualize the results of the simulation."
   ]
  },
  {
   "cell_type": "code",
   "execution_count": null,
   "metadata": {},
   "outputs": [],
   "source": [
    "# defining the variables in order to use them for the ploting\n",
    "growth = df['Sales Growth Rate']\n",
    "discount = df['Discount Rate']\n",
    "dcf_value = df['Estimated Company Value']\n"
   ]
  },
  {
   "cell_type": "markdown",
   "metadata": {},
   "source": [
    "#### Plot of the distribution of the simulated values"
   ]
  },
  {
   "cell_type": "code",
   "execution_count": null,
   "metadata": {},
   "outputs": [],
   "source": [
    "simulation_figure = plt.figure(figsize=(15, 15))\n",
    "\n",
    "# Histogram of the Estimated Company Value\n",
    "plt.subplot(2,2,1)\n",
    "plt.hist(dcf_value, density=True, bins=100)\n",
    "plt.xlabel('Company Value')\n",
    "plt.ylabel('Frequency')\n",
    "plt.title('Distribution of Estimated Company Value', fontsize=12)\n",
    "plt.axvline(dcf_value.mean(), label=f'Average Value: {dcf_value.mean(): .2f}', color='r')\n",
    "plt.legend()\n",
    "\n",
    "\n",
    "# Comulative Distribution Function (CDF)\n",
    "plt.subplot(2,2,2)\n",
    "x = np.sort(df['Estimated Company Value'])\n",
    "y = np.arange(1, len(x)+1)/ len(x)\n",
    "plt.plot(x, y, marker='.', linestyle='none')\n",
    "plt.xlabel('Estimated Company Value')\n",
    "plt.ylabel('Comulative Probability')\n",
    "plt.title('Comulative Disctibution Function', fontsize=12)\n",
    "\n",
    "\n",
    "# Histogram of Sales Growth Rate\n",
    "plt.subplot(2,2,3)\n",
    "plt.hist(growth, density=True, bins=50)\n",
    "plt.xlabel('Estimated Sales Growth Rate')\n",
    "plt.ylabel('Frequency')\n",
    "plt.title('Distribution of Sales Growth Rate', fontsize=12)\n",
    "plt.axvline(growth.mean(),label=f\"Average Growth Rate: {growth.mean()*100: .2f}%\", color='r')\n",
    "plt.legend()\n",
    "\n",
    "# Histogram of Discount Rate\n",
    "plt.subplot(2,2,4)\n",
    "plt.hist(discount, density=True, bins=50)\n",
    "plt.xlabel('Estimated Discount Rate')\n",
    "plt.ylabel('Frequency')\n",
    "plt.title('Distribution of Estimated Discount Rate', fontsize=12)\n",
    "plt.axvline(discount.mean(), label=f\"Average Discount Rate: {discount.mean()*100: .2f}%\", color='r')\n",
    "plt.legend()\n",
    "\n",
    "plt.show()\n"
   ]
  },
  {
   "cell_type": "markdown",
   "metadata": {},
   "source": [
    "1. The first figure is the histogram showing the distribution of the the Monte Carlo result regarding the estimaded company value. This histogram is skewed right. The distribution skewed to the right is said to be positively skewed. This kind of distribution has a large number of occurrences in the lower value cells (left side) and few in the upper value cells (right side). The majority of the outcomes from the simulation are on the left side of the red horizontal line which represent the average (mean) value.\n",
    "2. Comulative Distribution Function graph of the estimated company value is situated on the second place. Cumulative frequency is used to determine the number of observations that lie above (or below) a particular value in a data set. The cumulative frequency is calculated by adding each frequency from a frequency distribution table or directly from the data set to the sum of its predecessors. The last value will always be equal to the total for all observations, since all frequencies will already have been added to the previous total. From this graph we can see that almost all of the estimated values of the company are below 6000 MCHF and limited number of the observations falls above this threshold.\n",
    "3. The third diagram is again histogram showing the distribution of the simulated sales growth rate. The histogram looks close to the normal distribution (bell-shaped diagram) with a mean value of -0.0569 (-5.69%) which is shown by the red horizontal line. \n",
    "4. The last graph is the distribution of the estimated discount rates. THe histogram is the uniform distribution of the outccome from the simulation. The diagram indicates that the data that is very consistent; the frequency of each outcome is very similar to that of the others. A data set with a uniform-shaped histogram looks being multimodal – the having multiple intervals with the maximum frequency. It looks that the 10000 itterations are not exactly sufficient since we have a couple of peaks and outliers.  "
   ]
  },
  {
   "cell_type": "code",
   "execution_count": null,
   "metadata": {},
   "outputs": [],
   "source": [
    "# To place the figures in the excel file with the DCF model\n",
    "rng = dcf_file.sheets['Simulation'].range('J2')\n",
    "simulation_sht.pictures.add(simulation_figure, name = 'Simulation', update = True, top= rng.top, left = rng.left)"
   ]
  },
  {
   "cell_type": "code",
   "execution_count": null,
   "metadata": {},
   "outputs": [],
   "source": [
    "descriptive_stat = df.describe()\n",
    "descriptive_stat"
   ]
  },
  {
   "cell_type": "code",
   "execution_count": null,
   "metadata": {},
   "outputs": [],
   "source": [
    "# Adding the statistic data into the excel model\n",
    "simulation_sht.range('E1').value = descriptive_stat"
   ]
  },
  {
   "cell_type": "code",
   "execution_count": null,
   "metadata": {},
   "outputs": [],
   "source": [
    "# Creating a scatter plot witht he values of the Sales Growth Rate and the Estimated Company Value\n",
    "scatter_fig = plt.figure(figsize=(8, 5))\n",
    "plt.scatter(growth, dcf_value)\n",
    "plt.show()"
   ]
  },
  {
   "cell_type": "markdown",
   "metadata": {},
   "source": [
    "The above scatter plot build from the outcome of the simulation based ont he DCF model like an exponential line, which shows the positive relationship between the growth rate and the estimated company value, i.e. when the growth rate increase (the x-axis), the company value tend to increase as well (the y-axis)."
   ]
  },
  {
   "cell_type": "code",
   "execution_count": null,
   "metadata": {},
   "outputs": [],
   "source": [
    "# To place the figures in the excel file with the DCF model\n",
    "rng5 = dcf_file.sheets['Simulation'].range('J63')\n",
    "simulation_sht.pictures.add(scatter_fig, name = 'Growth Rate & Estimated Company Value', update = True, top= rng5.top, left = rng5.left)"
   ]
  },
  {
   "cell_type": "markdown",
   "metadata": {},
   "source": [
    "##### Fromating the data in the Excel"
   ]
  },
  {
   "cell_type": "code",
   "execution_count": null,
   "metadata": {},
   "outputs": [],
   "source": [
    "# Defining the cell ranges which will be formated - the output data from the simulation\n",
    "output_range = simulation_sht.range('A1').expand() # the whole first 3 columns\n",
    "output_header_range = simulation_sht.range('A1').expand('right') # the  headers in A, B columns\n",
    "output_data_range = simulation_sht.range('A2').expand() # only the data from the columns\n",
    "\n",
    "# Defining the range to be formated from the descriptive statistics data frame\n",
    "stats_range = simulation_sht.range('E1').expand()\n",
    "stats_header_range = simulation_sht.range('F1').expand('right')\n",
    "stats_data_range = simulation_sht.range('F2').expand() # only the data\n",
    "stats_name_range = simulation_sht.range('E2').expand('down')"
   ]
  },
  {
   "cell_type": "markdown",
   "metadata": {},
   "source": [
    "##### Formating the Headers of the excel tables\n"
   ]
  },
  {
   "cell_type": "code",
   "execution_count": null,
   "metadata": {},
   "outputs": [],
   "source": [
    "# Font and Size\n",
    "header = [output_header_range, stats_header_range, stats_name_range]\n",
    "\n",
    "for cells in header:\n",
    "    cells.api.Font.Name = 'Arial'\n",
    "    cells.api.Font.size = 11\n",
    "    cells.api.Font.Bold= True\n",
    "    cells.color = rgb_to_int((255, 0, 255))  # the background color\n",
    "    cells.api.Font.Color= rgb_to_int((255, 255, 255))  # font color\n",
    "    cells.column_width = 13\n",
    "    cells.api.WrapText = True\n",
    "    "
   ]
  },
  {
   "cell_type": "code",
   "execution_count": null,
   "metadata": {},
   "outputs": [],
   "source": [
    "# Aplying Center Alignment\n",
    "output_range.api.HorizontalAlignment = xw.constants.HAlign.xlHAlignCenter\n",
    "stats_range.api.HorizontalAlignment = xw.constants.HAlign.xlHAlignCenter"
   ]
  },
  {
   "cell_type": "code",
   "execution_count": null,
   "metadata": {},
   "outputs": [],
   "source": [
    "# stats_name_range.color= (255, 204, 255)\n",
    "stats_name_range.autofit()"
   ]
  },
  {
   "cell_type": "markdown",
   "metadata": {},
   "source": [
    "##### Fromating the Data Cells"
   ]
  },
  {
   "cell_type": "code",
   "execution_count": null,
   "metadata": {},
   "outputs": [],
   "source": [
    "# Formating the numbers:\n",
    "output_data_range.number_format = '0.00'\n",
    "stats_data_range.number_format = '0.00'\n",
    "\n",
    "# Setting background color:\n",
    "output_data_range.color = (230, 230, 255)\n",
    "stats_data_range.color = (230, 230, 255)"
   ]
  },
  {
   "cell_type": "markdown",
   "metadata": {},
   "source": [
    "##### Fromating the borders on the data frame"
   ]
  },
  {
   "cell_type": "code",
   "execution_count": null,
   "metadata": {},
   "outputs": [],
   "source": [
    "for border_id in range(7,13):\n",
    "    output_range.api.Borders(border_id).Color = 0xFFFFFF # white border frame\n",
    "    output_range.api.Borders(border_id).Weight = 2 # thin border\n",
    "    \n",
    "    stats_range.api.Borders(border_id).Color = 0xFFFFFF # white border frame\n",
    "    stats_range.api.Borders(border_id).Weight = 2 # thin border\n",
    "    "
   ]
  },
  {
   "cell_type": "markdown",
   "metadata": {},
   "source": [
    "<div style=\"text-align: left\"><H3><font color=darkgreen>Conclusion</font></H3></div>\n",
    "\n",
    "<div style=\"text-align: justify\">The Monte Carlo method is a stochastic (random sampling of inputs) method to solve a statistical problem, and a simulation is a virtual representation of a problem. The Monte Carlo simulation combines the two to give us a powerful tool that allows us to obtain a distribution (array) of results for any statistical problem with numerous inputs sampled over and over again.\n",
    "In other words, this has to do with sensitivity analysis: instead of having a simple and basic \"low / medium / high\" scenario kind of model which one would traditionally build on Excel, with the Monte-Carlo simulation we used thousands of variations of the key model's drivers to generate a fair price for the company.\n",
    "These simulations allowed to go beyond deterministic models and inject hazard and stochastic into it. </div>\n",
    "<div style=\"text-align: justify\">When we assess the financial value of a company, there are indeed many random factors which can have an impact on the final company valuation. Revenue can grow at a stronger pace than expected, EBITDA can grow slower than expected, net working capital can also follow another path and so on. Because we used some hard-coded values and a lot of assumptions for the DCF Model variables, we do not have the perfect model and at the same time the model is quite robust for fulfilling the main objective. <br>\n",
    "<div style=\"text-align: justify\">\n",
    "The stochastic approach via the Monte Carlo simulation gives the price to be between <b>-993.27MCHF and 2,122.52 MCHF</b> after having injected 10,000 random hypothesis following a normal or uniform distribution on sales growth rate and discount rate under assumptions for the cost of goods sold, selling general and administrative, interest expenses, capex, depreciation & amortization, change in net working capital.\n",
    "The outcome of the simulations regarding the sales growth rate and the discount rate was incorporated in the Monte Carlo simulation for the estimated company value where we had as a result from the simulations:<br>\n",
    "    - major sales growth rate movement (1 Standard Deviation) between 0.1699 and -0.2679 and <br>\n",
    "    - major discount rate movement (1 Standard Deviation) between 0.0606 and 0.08944.<br>\n",
    " In the end, with the evolution of financial concepts and improvements, there is no single approach that should be totally ignored. It is important to genuinely understand the assumption behind each metric to avoid conclusions that are driven by a model’s assumptions, rather than the economic facts of the problem. In the future and maybe for the time being, there is new research and new models that will possibly further improve the financial concepts. The eventual answer could be that there is no single financial model that can totally replace another and be the panacea. Each of them applies different assumptions and yields a different conclusion. Each framework will generate different answers when applied to real world situations. A manager or an analyst might need multiple points of view in order to make a wise decision.<br>\n",
    "And finally in terms of decision making Monte Carlo simulations are a tool to obtain more accurate forecasts in areas of great complexity and uncertainty – never deleting the uncertainties, but helping us to cope with them.<br>\n",
    "</div>"
   ]
  },
  {
   "cell_type": "markdown",
   "metadata": {},
   "source": [
    "<div style=\"text-align: justify\"><b>P.S.</b> I enjoyed a lot building the model and learning on the fly how Monte Carlo and DCF models can be used in the real practice. I am aming to upgrade the model and impelement more complex and hazard factors. Also, I am looking forward seeing the next financial report of the Company and to verify how close my model was to the reality.</div>"
   ]
  },
  {
   "cell_type": "markdown",
   "metadata": {},
   "source": [
    "## Final -  Saving and Closing the Calculated Model"
   ]
  },
  {
   "cell_type": "code",
   "execution_count": null,
   "metadata": {},
   "outputs": [],
   "source": [
    "# You can choose the file name in order to save your model\n",
    "dcf_file.save('DCF_Model_Monte_Carlo')\n",
    "app = xw.apps.active\n",
    "app.quit()"
   ]
  },
  {
   "cell_type": "code",
   "execution_count": null,
   "metadata": {},
   "outputs": [],
   "source": []
  }
 ],
 "metadata": {
  "kernelspec": {
   "display_name": "Python 3",
   "language": "python",
   "name": "python3"
  },
  "language_info": {
   "codemirror_mode": {
    "name": "ipython",
    "version": 3
   },
   "file_extension": ".py",
   "mimetype": "text/x-python",
   "name": "python",
   "nbconvert_exporter": "python",
   "pygments_lexer": "ipython3",
   "version": "3.8.3"
  }
 },
 "nbformat": 4,
 "nbformat_minor": 4
}
